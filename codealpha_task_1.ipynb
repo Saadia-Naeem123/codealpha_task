{
 "cells": [
  {
   "cell_type": "markdown",
   "id": "0ac226f8-cb6f-4edb-8477-f6fa59cdbdf6",
   "metadata": {},
   "source": [
    "WELCOME TO HANGMAN GAME by SAADIA NAEEM"
   ]
  },
  {
   "cell_type": "code",
   "execution_count": 2,
   "id": "ea3487e3-1ef5-490b-9eaf-916041627937",
   "metadata": {},
   "outputs": [
    {
     "name": "stdout",
     "output_type": "stream",
     "text": [
      "Welcome to Hangman!\n",
      "\n",
      "Word: _ _ _ _ _ _ _ _ _\n",
      "Incorrect guesses left: 6\n",
      "Guessed letters: \n"
     ]
    },
    {
     "name": "stdin",
     "output_type": "stream",
     "text": [
      "Guess a letter:  h\n"
     ]
    },
    {
     "name": "stdout",
     "output_type": "stream",
     "text": [
      "Good job! 'h' is in the word.\n",
      "\n",
      "Word: _ _ _ _ _ _ _ h _\n",
      "Incorrect guesses left: 6\n",
      "Guessed letters: h\n"
     ]
    },
    {
     "name": "stdin",
     "output_type": "stream",
     "text": [
      "Guess a letter:  \n"
     ]
    },
    {
     "name": "stdout",
     "output_type": "stream",
     "text": [
      "Invalid input. Please enter a single letter.\n",
      "\n",
      "Word: _ _ _ _ _ _ _ h _\n",
      "Incorrect guesses left: 6\n",
      "Guessed letters: h\n"
     ]
    },
    {
     "name": "stdin",
     "output_type": "stream",
     "text": [
      "Guess a letter:  a\n"
     ]
    },
    {
     "name": "stdout",
     "output_type": "stream",
     "text": [
      "Good job! 'a' is in the word.\n",
      "\n",
      "Word: a _ _ _ _ _ _ h _\n",
      "Incorrect guesses left: 6\n",
      "Guessed letters: a h\n"
     ]
    },
    {
     "name": "stdin",
     "output_type": "stream",
     "text": [
      "Guess a letter:  u\n"
     ]
    },
    {
     "name": "stdout",
     "output_type": "stream",
     "text": [
      "Sorry, 'u' is not in the word.\n",
      "\n",
      "Word: a _ _ _ _ _ _ h _\n",
      "Incorrect guesses left: 5\n",
      "Guessed letters: a h u\n"
     ]
    },
    {
     "name": "stdin",
     "output_type": "stream",
     "text": [
      "Guess a letter:  p\n"
     ]
    },
    {
     "name": "stdout",
     "output_type": "stream",
     "text": [
      "Sorry, 'p' is not in the word.\n",
      "\n",
      "Word: a _ _ _ _ _ _ h _\n",
      "Incorrect guesses left: 4\n",
      "Guessed letters: a h p u\n"
     ]
    },
    {
     "name": "stdin",
     "output_type": "stream",
     "text": [
      "Guess a letter:  hangman\n"
     ]
    },
    {
     "name": "stdout",
     "output_type": "stream",
     "text": [
      "Invalid input. Please enter a single letter.\n",
      "\n",
      "Word: a _ _ _ _ _ _ h _\n",
      "Incorrect guesses left: 4\n",
      "Guessed letters: a h p u\n"
     ]
    },
    {
     "name": "stdin",
     "output_type": "stream",
     "text": [
      "Guess a letter:  g\n"
     ]
    },
    {
     "name": "stdout",
     "output_type": "stream",
     "text": [
      "Good job! 'g' is in the word.\n",
      "\n",
      "Word: a _ g _ _ _ _ h _\n",
      "Incorrect guesses left: 4\n",
      "Guessed letters: a g h p u\n"
     ]
    },
    {
     "name": "stdin",
     "output_type": "stream",
     "text": [
      "Guess a letter:  l\n"
     ]
    },
    {
     "name": "stdout",
     "output_type": "stream",
     "text": [
      "Good job! 'l' is in the word.\n",
      "\n",
      "Word: a l g _ _ _ _ h _\n",
      "Incorrect guesses left: 4\n",
      "Guessed letters: a g h l p u\n"
     ]
    },
    {
     "name": "stdin",
     "output_type": "stream",
     "text": [
      "Guess a letter:  r\n"
     ]
    },
    {
     "name": "stdout",
     "output_type": "stream",
     "text": [
      "Good job! 'r' is in the word.\n",
      "\n",
      "Word: a l g _ r _ _ h _\n",
      "Incorrect guesses left: 4\n",
      "Guessed letters: a g h l p r u\n"
     ]
    },
    {
     "name": "stdin",
     "output_type": "stream",
     "text": [
      "Guess a letter:  i\n"
     ]
    },
    {
     "name": "stdout",
     "output_type": "stream",
     "text": [
      "Good job! 'i' is in the word.\n",
      "\n",
      "Word: a l g _ r i _ h _\n",
      "Incorrect guesses left: 4\n",
      "Guessed letters: a g h i l p r u\n"
     ]
    },
    {
     "name": "stdin",
     "output_type": "stream",
     "text": [
      "Guess a letter:  t\n"
     ]
    },
    {
     "name": "stdout",
     "output_type": "stream",
     "text": [
      "Good job! 't' is in the word.\n",
      "\n",
      "Word: a l g _ r i t h _\n",
      "Incorrect guesses left: 4\n",
      "Guessed letters: a g h i l p r t u\n"
     ]
    },
    {
     "name": "stdin",
     "output_type": "stream",
     "text": [
      "Guess a letter:  h\n"
     ]
    },
    {
     "name": "stdout",
     "output_type": "stream",
     "text": [
      "You have already guessed that letter.\n",
      "\n",
      "Word: a l g _ r i t h _\n",
      "Incorrect guesses left: 4\n",
      "Guessed letters: a g h i l p r t u\n"
     ]
    },
    {
     "name": "stdin",
     "output_type": "stream",
     "text": [
      "Guess a letter:  e\n"
     ]
    },
    {
     "name": "stdout",
     "output_type": "stream",
     "text": [
      "Sorry, 'e' is not in the word.\n",
      "\n",
      "Word: a l g _ r i t h _\n",
      "Incorrect guesses left: 3\n",
      "Guessed letters: a e g h i l p r t u\n"
     ]
    },
    {
     "name": "stdin",
     "output_type": "stream",
     "text": [
      "Guess a letter:  o\n"
     ]
    },
    {
     "name": "stdout",
     "output_type": "stream",
     "text": [
      "Good job! 'o' is in the word.\n",
      "\n",
      "Word: a l g o r i t h _\n",
      "Incorrect guesses left: 3\n",
      "Guessed letters: a e g h i l o p r t u\n"
     ]
    },
    {
     "name": "stdin",
     "output_type": "stream",
     "text": [
      "Guess a letter:  m\n"
     ]
    },
    {
     "name": "stdout",
     "output_type": "stream",
     "text": [
      "Good job! 'm' is in the word.\n",
      "\n",
      "Congratulations! You've guessed the word: algorithm\n"
     ]
    }
   ],
   "source": [
    "import random\n",
    "\n",
    "def get_random_word():\n",
    "    # List of words to choose from\n",
    "    words = [\"python\", \"hangman\", \"programming\", \"developer\", \"algorithm\", \"debugging\", \"artificial\", \"intelligence\"]\n",
    "    return random.choice(words)\n",
    "\n",
    "def display_word(word, guessed_letters):\n",
    "    # Display the current state of the word with guessed letters\n",
    "    return \" \".join([letter if letter in guessed_letters else \"_\" for letter in word])\n",
    "\n",
    "def hangman():\n",
    "    print(\"Welcome to Hangman!\")\n",
    "\n",
    "    # Initialize game variables\n",
    "    word = get_random_word()  # Randomly select a word\n",
    "    guessed_letters = set()   # Store guessed letters\n",
    "    incorrect_guesses = 0     # Count incorrect guesses\n",
    "    max_incorrect_guesses = 6 # Limit on incorrect guesses\n",
    "\n",
    "    while incorrect_guesses < max_incorrect_guesses:\n",
    "        # Display the current state of the word\n",
    "        print(\"\\nWord:\", display_word(word, guessed_letters))\n",
    "        print(f\"Incorrect guesses left: {max_incorrect_guesses - incorrect_guesses}\")\n",
    "        print(\"Guessed letters:\", \" \".join(sorted(guessed_letters)))\n",
    "\n",
    "        # Get a letter from the player\n",
    "        guess = input(\"Guess a letter: \").lower()\n",
    "\n",
    "        # Check if the input is a single alphabetic character\n",
    "        if len(guess) != 1 or not guess.isalpha():\n",
    "            print(\"Invalid input. Please enter a single letter.\")\n",
    "            continue\n",
    "\n",
    "        # Check if the letter has already been guessed\n",
    "        if guess in guessed_letters:\n",
    "            print(\"You have already guessed that letter.\")\n",
    "            continue\n",
    "\n",
    "        # Add the guessed letter to the set of guessed letters\n",
    "        guessed_letters.add(guess)\n",
    "\n",
    "        # Check if the guessed letter is in the word\n",
    "        if guess in word:\n",
    "            print(f\"Good job! '{guess}' is in the word.\")\n",
    "        else:\n",
    "            print(f\"Sorry, '{guess}' is not in the word.\")\n",
    "            incorrect_guesses += 1\n",
    "\n",
    "        # Check if the player has guessed the word\n",
    "        if all(letter in guessed_letters for letter in word):\n",
    "            print(\"\\nCongratulations! You've guessed the word:\", word)\n",
    "            break\n",
    "    else:\n",
    "        print(\"\\nGame over! You've run out of guesses.\")\n",
    "        print(\"The word was:\", word)\n",
    "\n",
    "# Run the Hangman game\n",
    "hangman()\n"
   ]
  },
  {
   "cell_type": "code",
   "execution_count": null,
   "id": "1d271260-17f9-4fec-9508-851deb24c35a",
   "metadata": {},
   "outputs": [],
   "source": []
  }
 ],
 "metadata": {
  "kernelspec": {
   "display_name": "Python 3 (ipykernel)",
   "language": "python",
   "name": "python3"
  },
  "language_info": {
   "codemirror_mode": {
    "name": "ipython",
    "version": 3
   },
   "file_extension": ".py",
   "mimetype": "text/x-python",
   "name": "python",
   "nbconvert_exporter": "python",
   "pygments_lexer": "ipython3",
   "version": "3.11.7"
  }
 },
 "nbformat": 4,
 "nbformat_minor": 5
}
